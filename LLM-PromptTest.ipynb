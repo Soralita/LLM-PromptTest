{
 "cells": [
  {
   "cell_type": "markdown",
   "metadata": {
    "vscode": {
     "languageId": "plaintext"
    }
   },
   "source": [
    "## Preset 1"
   ]
  },
  {
   "cell_type": "markdown",
   "metadata": {
    "vscode": {
     "languageId": "plaintext"
    }
   },
   "source": [
    "### Preset Setting"
   ]
  },
  {
   "cell_type": "code",
   "execution_count": null,
   "metadata": {
    "vscode": {
     "languageId": "plaintext"
    }
   },
   "outputs": [],
   "source": [
    "## Role:\n",
    "航班信息翻译员\n",
    "## Profile:\n",
    "- language: 中文\n",
    "- description: 你是一个专门处理航班信息的翻译员，你的主要职责是将原始的航班信息翻译并整理为用户易读的格式。原始的机票信息结构是：多个航段组成的一张票据信息，票据会有一个总价格\n",
    "## Goals:\n",
    "- 理解和翻译航班信息\n",
    "- 按照规定的格式整理翻译后的航班信息\n",
    "## Constrains:\n",
    "- 输出的航班信息只包含航班号（英文+需要翻译为中文名称）、航空公司（仅翻译为中文名称）、出发地、目的地、起飞机场（英文+需要翻译为中文名称）、落地机场（英文+需要翻译为中文名称）、起飞时间（格式为yyyy-MM-dd HH:mm:ss）、到达时间（格式为yyyy-MM-dd HH:mm:ss）、行李限额（需要翻译为中文解释）、改签费（即：更改航班费用）、退票费（即：取消退款费用）、误机费（即：未办理登记手续费用）、机票总价格（仅返回数字）、预订编码、机票号、出发城市代码、目的城市代码\n",
    "- 所有的时间和日期信息需要按照用户指定的格式处理\n",
    "- 所有的信息需要按照有序列表输出\n",
    "- 机票总价格的格式如下：TOTAL代表机票总金额 CNY代表国际币种简称，后面的数字代表金额，最终期望显示为：机票总金额：金额，如果币种简称不符合币种要求，显示为：暂无\n",
    "- 将机票信息转换成JSON数组格式。缺失的信息请在JSON中以null表示。JSON模板：{\n",
    "    \"fightNumber\": \"航班号（英文+需要翻译为中文名称）\",\n",
    "    \"airway\": \"航空公司（仅翻译为中文名称）\",\n",
    "    \"fightDepartureCity\": \"出发地\",\n",
    "    \"fightFallCity\": \"目的地\",\n",
    "    \"fightDepartureAirport\": \"起飞机场（英文+需要翻译为中文名称）\",\n",
    "    \"fightFallAirport\": \"落地机场（英文+需要翻译为中文名称）\",\n",
    "    \"fightStatus\": \"航班状态\",\n",
    "    \"fightDepartureTime\": \"起飞时间（格式为yyyy-MM-dd HH:mm:ss）\",\n",
    "    \"fightFallTime\": \"到达时间（格式为yyyy-MM-dd HH:mm:ss）\",\n",
    "    \"baggageAllowance\": \"行李限额（需要翻译为中文解释）\",\n",
    "    \"rebookFee\": \"改签费（即：更改航班费用）\",\n",
    "    \"refundFee\": \"退票费（即：取消退款费用）\",\n",
    "    \"delayFee\": \"误机费（即：未办理登记手续费用）\",\n",
    "    \"flightPrice\": \"机票总价格（仅返回数字）\",\n",
    "    \"bookingCode\": \"预订编码\",\n",
    "    \"ticketNo\": \"机票号\",\n",
    "    \"fightDepartureCityCode\": \"出发城市代码\",\n",
    "    \"fightFallCityCode\": \"目的城市代码\"\n",
    "}\n",
    "- 结果中仅包含JSON数组"
   ]
  },
  {
   "cell_type": "markdown",
   "metadata": {
    "vscode": {
     "languageId": "plaintext"
    }
   },
   "source": [
    "### Result 1"
   ]
  },
  {
   "cell_type": "markdown",
   "metadata": {
    "vscode": {
     "languageId": "plaintext"
    }
   },
   "source": [
    "#### Request"
   ]
  },
  {
   "cell_type": "code",
   "execution_count": null,
   "metadata": {
    "vscode": {
     "languageId": "plaintext"
    }
   },
   "outputs": [],
   "source": [
    "1.  TG340  V1  TH01AUG  DACBKK DK1   0245 0615       达卡-曼谷\n",
    " 2.  TG664  V1  TH01AUG  BKKPVG DK1   1045 1600      曼谷-上海浦东\n",
    "3930+35=3965CNY        25KG    改期USD50,退票USD100,误机USD150,部分税费不退"
   ]
  },
  {
   "cell_type": "markdown",
   "metadata": {
    "vscode": {
     "languageId": "plaintext"
    }
   },
   "source": [
    "#### Response (Model - OpenAI GPT-4o)"
   ]
  },
  {
   "cell_type": "code",
   "execution_count": null,
   "metadata": {
    "vscode": {
     "languageId": "plaintext"
    }
   },
   "outputs": [],
   "source": [
    "[\n",
    "    {\n",
    "        \"fightNumber\": \"TG340\",\n",
    "        \"airway\": \"泰国航空\",\n",
    "        \"fightDepartureCity\": \"达卡\",\n",
    "        \"fightFallCity\": \"曼谷\",\n",
    "        \"fightDepartureAirport\": \"DAC\",\n",
    "        \"fightFallAirport\": \"BKK\",\n",
    "        \"fightStatus\": null,\n",
    "        \"fightDepartureTime\": \"2023-08-01 02:45:00\",\n",
    "        \"fightFallTime\": \"2023-08-01 06:15:00\",\n",
    "        \"baggageAllowance\": \"25公斤\",\n",
    "        \"rebookFee\": \"改期费用：50美元\",\n",
    "        \"refundFee\": \"退票费用：100美元\",\n",
    "        \"delayFee\": \"误机费用：150美元\",\n",
    "        \"flightPrice\": 3965,\n",
    "        \"bookingCode\": \"DK1\",\n",
    "        \"ticketNo\": null,\n",
    "        \"fightDepartureCityCode\": \"DAC\",\n",
    "        \"fightFallCityCode\": \"BKK\"\n",
    "    },\n",
    "    {\n",
    "        \"fightNumber\": \"TG664\",\n",
    "        \"airway\": \"泰国航空\",\n",
    "        \"fightDepartureCity\": \"曼谷\",\n",
    "        \"fightFallCity\": \"上海浦东\",\n",
    "        \"fightDepartureAirport\": \"BKK\",\n",
    "        \"fightFallAirport\": \"PVG\",\n",
    "        \"fightStatus\": null,\n",
    "        \"fightDepartureTime\": \"2023-08-01 10:45:00\",\n",
    "        \"fightFallTime\": \"2023-08-01 16:00:00\",\n",
    "        \"baggageAllowance\": \"25公斤\",\n",
    "        \"rebookFee\": \"改期费用：50美元\",\n",
    "        \"refundFee\": \"退票费用：100美元\",\n",
    "        \"delayFee\": \"误机费用：150美元\",\n",
    "        \"flightPrice\": 3965,\n",
    "        \"bookingCode\": \"DK1\",\n",
    "        \"ticketNo\": null,\n",
    "        \"fightDepartureCityCode\": \"BKK\",\n",
    "        \"fightFallCityCode\": \"PVG\"\n",
    "    }\n",
    "]"
   ]
  },
  {
   "cell_type": "markdown",
   "metadata": {},
   "source": [
    "### Result 2"
   ]
  },
  {
   "cell_type": "markdown",
   "metadata": {},
   "source": [
    "#### Request"
   ]
  },
  {
   "cell_type": "code",
   "execution_count": null,
   "metadata": {
    "vscode": {
     "languageId": "plaintext"
    }
   },
   "outputs": [],
   "source": [
    "KP021   V  7月10日(星期三)    ACC阿克拉3 -LFW洛美    10:10  11:00 \n",
    "KP050  V   7月13日(星期六)    LFW洛美  -OUA瓦加杜古    12:10  13:55\n",
    "含税5350，行李2pc，改期600，退票800，误机2200 ,误机不退  误机时限航班起飞前6小时  "
   ]
  },
  {
   "cell_type": "markdown",
   "metadata": {},
   "source": [
    "#### Response (Model - OpenAI GPT-4o)"
   ]
  },
  {
   "cell_type": "code",
   "execution_count": null,
   "metadata": {
    "vscode": {
     "languageId": "plaintext"
    }
   },
   "outputs": [],
   "source": [
    "[\n",
    "    {\n",
    "        \"fightNumber\": \"KP021\",\n",
    "        \"airway\": \"阿斯基亚航空\",\n",
    "        \"fightDepartureCity\": \"阿克拉\",\n",
    "        \"fightFallCity\": \"洛美\",\n",
    "        \"fightDepartureAirport\": \"阿克拉机场\",\n",
    "        \"fightFallAirport\": \"洛美机场\",\n",
    "        \"fightStatus\": null,\n",
    "        \"fightDepartureTime\": \"2023-07-10 10:10:00\",\n",
    "        \"fightFallTime\": \"2023-07-10 11:00:00\",\n",
    "        \"baggageAllowance\": \"行李限额为2件托运行李\",\n",
    "        \"rebookFee\": \"改签费为600元\",\n",
    "        \"refundFee\": \"退票费为800元\",\n",
    "        \"delayFee\": \"误机费为2200元\",\n",
    "        \"flightPrice\": \"5350\",\n",
    "        \"bookingCode\": null,\n",
    "        \"ticketNo\": null,\n",
    "        \"fightDepartureCityCode\": null,\n",
    "        \"fightFallCityCode\": null\n",
    "    },\n",
    "    {\n",
    "        \"fightNumber\": \"KP050\",\n",
    "        \"airway\": \"阿斯基亚航空\",\n",
    "        \"fightDepartureCity\": \"洛美\",\n",
    "        \"fightFallCity\": \"瓦加杜古\",\n",
    "        \"fightDepartureAirport\": \"洛美机场\",\n",
    "        \"fightFallAirport\": \"瓦加杜古机场\",\n",
    "        \"fightStatus\": null,\n",
    "        \"fightDepartureTime\": \"2023-07-13 12:10:00\",\n",
    "        \"fightFallTime\": \"2023-07-13 13:55:00\",\n",
    "        \"baggageAllowance\": \"行李限额为2件托运行李\",\n",
    "        \"rebookFee\": \"改签费为600元\",\n",
    "        \"refundFee\": \"退票费为800元\",\n",
    "        \"delayFee\": \"误机费为2200元\",\n",
    "        \"flightPrice\": \"5350\",\n",
    "        \"bookingCode\": null,\n",
    "        \"ticketNo\": null,\n",
    "        \"fightDepartureCityCode\": null,\n",
    "        \"fightFallCityCode\": null\n",
    "    }\n",
    "]"
   ]
  },
  {
   "cell_type": "markdown",
   "metadata": {},
   "source": [
    "### Result 3 "
   ]
  },
  {
   "cell_type": "markdown",
   "metadata": {},
   "source": [
    "#### Request"
   ]
  },
  {
   "cell_type": "code",
   "execution_count": null,
   "metadata": {
    "vscode": {
     "languageId": "plaintext"
    }
   },
   "outputs": [],
   "source": [
    "1. QR815 N1 WE01NOV HKGDOH DK1 0030 0450 SEAME 1--\n",
    "2. QR1405 N1 WE01NOV DOHLOS DK1 0850 1610 SEAME -- I\n",
    "3. QR1408 Y MO20NOV LOSDOH DK1 1210 2245 SEAME I--\n",
    "4. QR818 Y SA02DEC DOHHKG DK1 0235 1510 SEAME -- 1\n",
    "TOTAL CNY 9969 2PC"
   ]
  },
  {
   "cell_type": "markdown",
   "metadata": {},
   "source": [
    "#### Response (Model - OpenAI GPT-4o)"
   ]
  },
  {
   "cell_type": "code",
   "execution_count": null,
   "metadata": {
    "vscode": {
     "languageId": "plaintext"
    }
   },
   "outputs": [],
   "source": [
    "[\n",
    "    {\n",
    "        \"fightNumber\": \"QR815\",\n",
    "        \"airway\": \"卡塔尔航空\",\n",
    "        \"fightDepartureCity\": \"香港\",\n",
    "        \"fightFallCity\": \"多哈\",\n",
    "        \"fightDepartureAirport\": \"香港国际机场\",\n",
    "        \"fightFallAirport\": \"哈马德国际机场\",\n",
    "        \"fightStatus\": null,\n",
    "        \"fightDepartureTime\": \"2023-11-01 00:30:00\",\n",
    "        \"fightFallTime\": \"2023-11-01 04:50:00\",\n",
    "        \"baggageAllowance\": \"2件托运行李\",\n",
    "        \"rebookFee\": null,\n",
    "        \"refundFee\": null,\n",
    "        \"delayFee\": null,\n",
    "        \"flightPrice\": 9969,\n",
    "        \"bookingCode\": null,\n",
    "        \"ticketNo\": null,\n",
    "        \"fightDepartureCityCode\": \"HKG\",\n",
    "        \"fightFallCityCode\": \"DOH\"\n",
    "    },\n",
    "    {\n",
    "        \"fightNumber\": \"QR1405\",\n",
    "        \"airway\": \"卡塔尔航空\",\n",
    "        \"fightDepartureCity\": \"多哈\",\n",
    "        \"fightFallCity\": \"拉各斯\",\n",
    "        \"fightDepartureAirport\": \"哈马德国际机场\",\n",
    "        \"fightFallAirport\": \"穆尔塔拉·穆罕默德国际机场\",\n",
    "        \"fightStatus\": null,\n",
    "        \"fightDepartureTime\": \"2023-11-01 08:50:00\",\n",
    "        \"fightFallTime\": \"2023-11-01 16:10:00\",\n",
    "        \"baggageAllowance\": \"2件托运行李\",\n",
    "        \"rebookFee\": null,\n",
    "        \"refundFee\": null,\n",
    "        \"delayFee\": null,\n",
    "        \"flightPrice\": 9969,\n",
    "        \"bookingCode\": null,\n",
    "        \"ticketNo\": null,\n",
    "        \"fightDepartureCityCode\": \"DOH\",\n",
    "        \"fightFallCityCode\": \"LOS\"\n",
    "    },\n",
    "    {\n",
    "        \"fightNumber\": \"QR1408\",\n",
    "        \"airway\": \"卡塔尔航空\",\n",
    "        \"fightDepartureCity\": \"拉各斯\",\n",
    "        \"fightFallCity\": \"多哈\",\n",
    "        \"fightDepartureAirport\": \"穆尔塔拉·穆罕默德国际机场\",\n",
    "        \"fightFallAirport\": \"哈马德国际机场\",\n",
    "        \"fightStatus\": null,\n",
    "        \"fightDepartureTime\": \"2023-11-20 12:10:00\",\n",
    "        \"fightFallTime\": \"2023-11-20 22:45:00\",\n",
    "        \"baggageAllowance\": \"2件托运行李\",\n",
    "        \"rebookFee\": null,\n",
    "        \"refundFee\": null,\n",
    "        \"delayFee\": null,\n",
    "        \"flightPrice\": 9969,\n",
    "        \"bookingCode\": null,\n",
    "        \"ticketNo\": null,\n",
    "        \"fightDepartureCityCode\": \"LOS\",\n",
    "        \"fightFallCityCode\": \"DOH\"\n",
    "    },\n",
    "    {\n",
    "        \"fightNumber\": \"QR818\",\n",
    "        \"airway\": \"卡塔尔航空\",\n",
    "        \"fightDepartureCity\": \"多哈\",\n",
    "        \"fightFallCity\": \"香港\",\n",
    "        \"fightDepartureAirport\": \"哈马德国际机场\",\n",
    "        \"fightFallAirport\": \"香港国际机场\",\n",
    "        \"fightStatus\": null,\n",
    "        \"fightDepartureTime\": \"2023-12-02 02:35:00\",\n",
    "        \"fightFallTime\": \"2023-12-02 15:10:00\",\n",
    "        \"baggageAllowance\": \"2件托运行李\",\n",
    "        \"rebookFee\": null,\n",
    "        \"refundFee\": null,\n",
    "        \"delayFee\": null,\n",
    "        \"flightPrice\": 9969,\n",
    "        \"bookingCode\": null,\n",
    "        \"ticketNo\": null,\n",
    "        \"fightDepartureCityCode\": \"DOH\",\n",
    "        \"fightFallCityCode\": \"HKG\"\n",
    "    }\n",
    "]"
   ]
  },
  {
   "cell_type": "markdown",
   "metadata": {},
   "source": [
    "### Result 4"
   ]
  },
  {
   "cell_type": "markdown",
   "metadata": {},
   "source": [
    "#### Request"
   ]
  },
  {
   "cell_type": "code",
   "execution_count": null,
   "metadata": {
    "vscode": {
     "languageId": "plaintext"
    }
   },
   "outputs": [],
   "source": [
    "QR1408 S   7月06日(星期六)    LOS拉各斯I -DOH多哈哈马德              11:35  22:35\n",
    "QR874  S   7月07日(星期天)    DOH多哈哈马德  -CAN广州白云2           02:30  15:30\n",
    "QR871  N   7月13日(星期六)    PVG上海浦东国际机场2 -DOH多哈哈马德    00:35  04:35\n",
    "QR1405  N  7月13日(星期六)    DOH多哈哈马德  -LOS拉各斯I             09:25  16:05\n",
    "含税：10440 行李2pc，改期110USD+差价，首次免费更改+差价   误机355USD，退票210USD  +部分税不退   ，误机时限航班起飞前6小时"
   ]
  },
  {
   "cell_type": "markdown",
   "metadata": {},
   "source": [
    "#### Response (Model - OpenAI GPT-4o)"
   ]
  },
  {
   "cell_type": "code",
   "execution_count": null,
   "metadata": {
    "vscode": {
     "languageId": "plaintext"
    }
   },
   "outputs": [],
   "source": [
    "[\n",
    "    {\n",
    "        \"fightNumber\": \"QR1408\",\n",
    "        \"airway\": \"卡塔尔航空\",\n",
    "        \"fightDepartureCity\": \"拉各斯\",\n",
    "        \"fightFallCity\": \"多哈\",\n",
    "        \"fightDepartureAirport\": \"拉各斯I\",\n",
    "        \"fightFallAirport\": \"多哈哈马德\",\n",
    "        \"fightStatus\": null,\n",
    "        \"fightDepartureTime\": \"2019-07-06 11:35:00\",\n",
    "        \"fightFallTime\": \"2019-07-06 22:35:00\",\n",
    "        \"baggageAllowance\": \"2件行李\",\n",
    "        \"rebookFee\": \"110USD+差价（首次免费更改+差价）\",\n",
    "        \"refundFee\": \"210USD+部分税不退\",\n",
    "        \"delayFee\": \"355USD（误机时限航班起飞前6小时）\",\n",
    "        \"flightPrice\": \"10440\",\n",
    "        \"bookingCode\": null,\n",
    "        \"ticketNo\": null,\n",
    "        \"fightDepartureCityCode\": \"LOS\",\n",
    "        \"fightFallCityCode\": \"DOH\"\n",
    "    },\n",
    "    {\n",
    "        \"fightNumber\": \"QR874\",\n",
    "        \"airway\": \"卡塔尔航空\",\n",
    "        \"fightDepartureCity\": \"多哈\",\n",
    "        \"fightFallCity\": \"广州\",\n",
    "        \"fightDepartureAirport\": \"多哈哈马德\",\n",
    "        \"fightFallAirport\": \"广州白云2\",\n",
    "        \"fightStatus\": null,\n",
    "        \"fightDepartureTime\": \"2019-07-07 02:30:00\",\n",
    "        \"fightFallTime\": \"2019-07-07 15:30:00\",\n",
    "        \"baggageAllowance\": \"2件行李\",\n",
    "        \"rebookFee\": \"110USD+差价（首次免费更改+差价）\",\n",
    "        \"refundFee\": \"210USD+部分税不退\",\n",
    "        \"delayFee\": \"355USD（误机时限航班起飞前6小时）\",\n",
    "        \"flightPrice\": \"10440\",\n",
    "        \"bookingCode\": null,\n",
    "        \"ticketNo\": null,\n",
    "        \"fightDepartureCityCode\": \"DOH\",\n",
    "        \"fightFallCityCode\": \"CAN\"\n",
    "    },\n",
    "    {\n",
    "        \"fightNumber\": \"QR871\",\n",
    "        \"airway\": \"卡塔尔航空\",\n",
    "        \"fightDepartureCity\": \"上海\",\n",
    "        \"fightFallCity\": \"多哈\",\n",
    "        \"fightDepartureAirport\": \"上海浦东国际机场2\",\n",
    "        \"fightFallAirport\": \"多哈哈马德\",\n",
    "        \"fightStatus\": null,\n",
    "        \"fightDepartureTime\": \"2019-07-13 00:35:00\",\n",
    "        \"fightFallTime\": \"2019-07-13 04:35:00\",\n",
    "        \"baggageAllowance\": \"2件行李\",\n",
    "        \"rebookFee\": \"110USD+差价（首次免费更改+差价）\",\n",
    "        \"refundFee\": \"210USD+部分税不退\",\n",
    "        \"delayFee\": \"355USD（误机时限航班起飞前6小时）\",\n",
    "        \"flightPrice\": \"10440\",\n",
    "        \"bookingCode\": null,\n",
    "        \"ticketNo\": null,\n",
    "        \"fightDepartureCityCode\": \"PVG\",\n",
    "        \"fightFallCityCode\": \"DOH\"\n",
    "    },\n",
    "    {\n",
    "        \"fightNumber\": \"QR1405\",\n",
    "        \"airway\": \"卡塔尔航空\",\n",
    "        \"fightDepartureCity\": \"多哈\",\n",
    "        \"fightFallCity\": \"拉各斯\",\n",
    "        \"fightDepartureAirport\": \"多哈哈马德\",\n",
    "        \"fightFallAirport\": \"拉各斯I\",\n",
    "        \"fightStatus\": null,\n",
    "        \"fightDepartureTime\": \"2019-07-13 09:25:00\",\n",
    "        \"fightFallTime\": \"2019-07-13 16:05:00\",\n",
    "        \"baggageAllowance\": \"2件行李\",\n",
    "        \"rebookFee\": \"110USD+差价（首次免费更改+差价）\",\n",
    "        \"refundFee\": \"210USD+部分税不退\",\n",
    "        \"delayFee\": \"355USD（误机时限航班起飞前6小时）\",\n",
    "        \"flightPrice\": \"10440\",\n",
    "        \"bookingCode\": null,\n",
    "        \"ticketNo\": null,\n",
    "        \"fightDepartureCityCode\": \"DOH\",\n",
    "        \"fightFallCityCode\": \"LOS\"\n",
    "    }\n",
    "]"
   ]
  },
  {
   "cell_type": "markdown",
   "metadata": {
    "vscode": {
     "languageId": "plaintext"
    }
   },
   "source": [
    "## Preset 2"
   ]
  },
  {
   "cell_type": "markdown",
   "metadata": {
    "vscode": {
     "languageId": "plaintext"
    }
   },
   "source": [
    "### Preset Settings"
   ]
  },
  {
   "cell_type": "code",
   "execution_count": null,
   "metadata": {
    "vscode": {
     "languageId": "plaintext"
    }
   },
   "outputs": [],
   "source": [
    "## Role:\n",
    "航班信息翻译员\n",
    "## Profile:\n",
    "- 你是一个专门处理航班信息的翻译员，你的主要职责是将原始的航班信息清洗为JSON数组格式。原始的机票信息结构是：多个航段组成的一张票据信息，票据会有一个总价格。\n",
    "## Goals:\n",
    "- 理解和翻译航班信息\n",
    "- 按照规定的格式整理翻译后的航班信息\n",
    "## Constrains:\n",
    "- 输出的航班信息只包含航班号（英文+翻译为中文名称）、航空公司（仅翻译为中文名称）、出发地、目的地、起飞机场（英文+翻译为中文名称）、落地机场（英文+翻译为中文名称）、起飞时间（格式为yyyy-MM-dd HH:mm:ss）、到达时间（格式为yyyy-MM-dd HH:mm:ss）、行李限额（翻译为中文解释）、改签费（即更改航班费用）、退票费（即取消退款费用）、误机费（即未办理登记手续费用）、机票总价格（仅返回数字）、预订编码、机票号、出发城市代码、目的城市代码。\n",
    "- JSON模板：{\n",
    "    \"fightNumber\": \"航班号（英文+翻译为中文名称）\",\n",
    "    \"airway\": \"航空公司（仅翻译为中文名称）\",\n",
    "    \"fightDepartureCity\": \"出发地\",\n",
    "    \"fightFallCity\": \"目的地\",\n",
    "    \"fightDepartureAirport\": \"起飞机场（英文+翻译为中文名称）\",\n",
    "    \"fightFallAirport\": \"落地机场（英文+翻译为中文名称）\",\n",
    "    \"fightStatus\": \"航班状态\",\n",
    "    \"fightDepartureTime\": \"起飞时间（格式为yyyy-MM-dd HH:mm:ss）\",\n",
    "    \"fightFallTime\": \"到达时间（格式为yyyy-MM-dd HH:mm:ss）\",\n",
    "    \"baggageAllowance\": \"行李限额（翻译为中文解释）\",\n",
    "    \"rebookFee\": \"改签费（即更改航班费用）\",\n",
    "    \"refundFee\": \"退票费（即取消退款费用）\",\n",
    "    \"delayFee\": \"误机费（即未办理登记手续费用）\",\n",
    "    \"flightPrice\": \"机票总价格（仅返回数字）\",\n",
    "    \"bookingCode\": \"预订编码\",\n",
    "    \"ticketNo\": \"机票号\",\n",
    "    \"fightDepartureCityCode\": \"出发城市代码\",\n",
    "    \"fightFallCityCode\": \"目的城市代码\"\n",
    "}\n",
    "- 机票总价格的格式如下：TOTAL代表机票总金额 CNY代表国际币种简称，后面的数字代表金额，最终期望显示为：机票总金额：金额，如果币种简称不符合币种要求，显示为：暂无。\n",
    "- 所有的时间和日期信息需要按照指定的格式处理。\n",
    "- 所有的信息需要按照指定的序列输出。\n",
    "- 缺失的信息请在JSON中以null表示。\n",
    "- 结果中仅包含JSON数组。"
   ]
  },
  {
   "cell_type": "markdown",
   "metadata": {},
   "source": [
    "### Result 1"
   ]
  },
  {
   "cell_type": "markdown",
   "metadata": {},
   "source": [
    "#### Request"
   ]
  },
  {
   "cell_type": "code",
   "execution_count": null,
   "metadata": {
    "vscode": {
     "languageId": "plaintext"
    }
   },
   "outputs": [],
   "source": [
    "1.  TG340  V1  TH01AUG  DACBKK DK1   0245 0615       达卡-曼谷\n",
    " 2.  TG664  V1  TH01AUG  BKKPVG DK1   1045 1600      曼谷-上海浦东\n",
    "3930+35=3965CNY        25KG    改期USD50,退票USD100,误机USD150,部分税费不退"
   ]
  },
  {
   "cell_type": "markdown",
   "metadata": {},
   "source": [
    "#### Response (Model - OpenAI GPT-4o)"
   ]
  },
  {
   "cell_type": "code",
   "execution_count": null,
   "metadata": {
    "vscode": {
     "languageId": "plaintext"
    }
   },
   "outputs": [],
   "source": [
    "[\n",
    "    {\n",
    "        \"fightNumber\": \"TG340（泰国国际航空）\",\n",
    "        \"airway\": \"泰国国际航空\",\n",
    "        \"fightDepartureCity\": \"达卡\",\n",
    "        \"fightFallCity\": \"曼谷\",\n",
    "        \"fightDepartureAirport\": \"DAC（达卡机场）\",\n",
    "        \"fightFallAirport\": \"BKK（曼谷素万那普机场）\",\n",
    "        \"fightStatus\": null,\n",
    "        \"fightDepartureTime\": \"2023-08-01 02:45:00\",\n",
    "        \"fightFallTime\": \"2023-08-01 06:15:00\",\n",
    "        \"baggageAllowance\": \"25公斤\",\n",
    "        \"rebookFee\": \"50美元\",\n",
    "        \"refundFee\": \"100美元\",\n",
    "        \"delayFee\": \"150美元\",\n",
    "        \"flightPrice\": 3965,\n",
    "        \"bookingCode\": \"DK1\",\n",
    "        \"ticketNo\": null,\n",
    "        \"fightDepartureCityCode\": \"DAC\",\n",
    "        \"fightFallCityCode\": \"BKK\"\n",
    "    },\n",
    "    {\n",
    "        \"fightNumber\": \"TG664（泰国国际航空）\",\n",
    "        \"airway\": \"泰国国际航空\",\n",
    "        \"fightDepartureCity\": \"曼谷\",\n",
    "        \"fightFallCity\": \"上海浦东\",\n",
    "        \"fightDepartureAirport\": \"BKK（曼谷素万那普机场）\",\n",
    "        \"fightFallAirport\": \"PVG（上海浦东机场）\",\n",
    "        \"fightStatus\": null,\n",
    "        \"fightDepartureTime\": \"2023-08-01 10:45:00\",\n",
    "        \"fightFallTime\": \"2023-08-01 16:00:00\",\n",
    "        \"baggageAllowance\": \"25公斤\",\n",
    "        \"rebookFee\": \"50美元\",\n",
    "        \"refundFee\": \"100美元\",\n",
    "        \"delayFee\": \"150美元\",\n",
    "        \"flightPrice\": 3965,\n",
    "        \"bookingCode\": \"DK1\",\n",
    "        \"ticketNo\": null,\n",
    "        \"fightDepartureCityCode\": \"BKK\",\n",
    "        \"fightFallCityCode\": \"PVG\"\n",
    "    }\n",
    "]"
   ]
  },
  {
   "cell_type": "markdown",
   "metadata": {},
   "source": [
    "### Result 2"
   ]
  },
  {
   "cell_type": "markdown",
   "metadata": {},
   "source": [
    "#### Request"
   ]
  },
  {
   "cell_type": "code",
   "execution_count": null,
   "metadata": {
    "vscode": {
     "languageId": "plaintext"
    }
   },
   "outputs": [],
   "source": [
    "KP021   V  7月10日(星期三)    ACC阿克拉3 -LFW洛美    10:10  11:00 \n",
    "KP050  V   7月13日(星期六)    LFW洛美  -OUA瓦加杜古    12:10  13:55\n",
    "含税5350，行李2pc，改期600，退票800，误机2200 ,误机不退  误机时限航班起飞前6小时  "
   ]
  },
  {
   "cell_type": "markdown",
   "metadata": {},
   "source": [
    "#### Response (Model - OpenAI GPT-4o)"
   ]
  },
  {
   "cell_type": "code",
   "execution_count": null,
   "metadata": {
    "vscode": {
     "languageId": "plaintext"
    }
   },
   "outputs": [],
   "source": [
    "[\n",
    "    {\n",
    "        \"fightNumber\": \"KP021（阿克拉至洛美）\",\n",
    "        \"airway\": \"阿克拉航空\",\n",
    "        \"fightDepartureCity\": \"阿克拉\",\n",
    "        \"fightFallCity\": \"洛美\",\n",
    "        \"fightDepartureAirport\": \"ACC（阿克拉机场）\",\n",
    "        \"fightFallAirport\": \"LFW（洛美机场）\",\n",
    "        \"fightStatus\": null,\n",
    "        \"fightDepartureTime\": \"2023-07-10 10:10:00\",\n",
    "        \"fightFallTime\": \"2023-07-10 11:00:00\",\n",
    "        \"baggageAllowance\": \"行李限额：2件\",\n",
    "        \"rebookFee\": \"改签费：600\",\n",
    "        \"refundFee\": \"退票费：800\",\n",
    "        \"delayFee\": \"误机费：2200\",\n",
    "        \"flightPrice\": 5350,\n",
    "        \"bookingCode\": null,\n",
    "        \"ticketNo\": null,\n",
    "        \"fightDepartureCityCode\": \"ACC\",\n",
    "        \"fightFallCityCode\": \"LFW\"\n",
    "    },\n",
    "    {\n",
    "        \"fightNumber\": \"KP050（洛美至瓦加杜古）\",\n",
    "        \"airway\": \"阿克拉航空\",\n",
    "        \"fightDepartureCity\": \"洛美\",\n",
    "        \"fightFallCity\": \"瓦加杜古\",\n",
    "        \"fightDepartureAirport\": \"LFW（洛美机场）\",\n",
    "        \"fightFallAirport\": \"OUA（瓦加杜古机场）\",\n",
    "        \"fightStatus\": null,\n",
    "        \"fightDepartureTime\": \"2023-07-13 12:10:00\",\n",
    "        \"fightFallTime\": \"2023-07-13 13:55:00\",\n",
    "        \"baggageAllowance\": \"行李限额：2件\",\n",
    "        \"rebookFee\": \"改签费：600\",\n",
    "        \"refundFee\": \"退票费：800\",\n",
    "        \"delayFee\": \"误机费：2200\",\n",
    "        \"flightPrice\": 5350,\n",
    "        \"bookingCode\": null,\n",
    "        \"ticketNo\": null,\n",
    "        \"fightDepartureCityCode\": \"LFW\",\n",
    "        \"fightFallCityCode\": \"OUA\"\n",
    "    }\n",
    "]"
   ]
  },
  {
   "cell_type": "markdown",
   "metadata": {},
   "source": [
    "### Result 3 "
   ]
  },
  {
   "cell_type": "markdown",
   "metadata": {},
   "source": [
    "#### Request"
   ]
  },
  {
   "cell_type": "code",
   "execution_count": null,
   "metadata": {
    "vscode": {
     "languageId": "plaintext"
    }
   },
   "outputs": [],
   "source": [
    "1. QR815 N1 WE01NOV HKGDOH DK1 0030 0450 SEAME 1--\n",
    "2. QR1405 N1 WE01NOV DOHLOS DK1 0850 1610 SEAME -- I\n",
    "3. QR1408 Y MO20NOV LOSDOH DK1 1210 2245 SEAME I--\n",
    "4. QR818 Y SA02DEC DOHHKG DK1 0235 1510 SEAME -- 1\n",
    "TOTAL CNY 9969 2PC"
   ]
  },
  {
   "cell_type": "markdown",
   "metadata": {},
   "source": [
    "#### Response (Model - OpenAI GPT-4o)"
   ]
  },
  {
   "cell_type": "code",
   "execution_count": null,
   "metadata": {
    "vscode": {
     "languageId": "plaintext"
    }
   },
   "outputs": [],
   "source": [
    "[\n",
    "    {\n",
    "        \"fightNumber\": \"QR815（卡塔尔航空815）\",\n",
    "        \"airway\": \"卡塔尔航空\",\n",
    "        \"fightDepartureCity\": \"香港\",\n",
    "        \"fightFallCity\": \"多哈\",\n",
    "        \"fightDepartureAirport\": \"HKG（香港国际机场）\",\n",
    "        \"fightFallAirport\": \"DOH（哈马德国际机场）\",\n",
    "        \"fightStatus\": null,\n",
    "        \"fightDepartureTime\": \"2023-11-01 00:30:00\",\n",
    "        \"fightFallTime\": \"2023-11-01 04:50:00\",\n",
    "        \"baggageAllowance\": \"2件托运行李\",\n",
    "        \"rebookFee\": null,\n",
    "        \"refundFee\": null,\n",
    "        \"delayFee\": null,\n",
    "        \"flightPrice\": 9969,\n",
    "        \"bookingCode\": \"DK1\",\n",
    "        \"ticketNo\": null,\n",
    "        \"fightDepartureCityCode\": \"HKG\",\n",
    "        \"fightFallCityCode\": \"DOH\"\n",
    "    },\n",
    "    {\n",
    "        \"fightNumber\": \"QR1405（卡塔尔航空1405）\",\n",
    "        \"airway\": \"卡塔尔航空\",\n",
    "        \"fightDepartureCity\": \"多哈\",\n",
    "        \"fightFallCity\": \"拉各斯\",\n",
    "        \"fightDepartureAirport\": \"DOH（哈马德国际机场）\",\n",
    "        \"fightFallAirport\": \"LOS（穆尔塔拉·穆罕默德国际机场）\",\n",
    "        \"fightStatus\": null,\n",
    "        \"fightDepartureTime\": \"2023-11-01 08:50:00\",\n",
    "        \"fightFallTime\": \"2023-11-01 16:10:00\",\n",
    "        \"baggageAllowance\": \"2件托运行李\",\n",
    "        \"rebookFee\": null,\n",
    "        \"refundFee\": null,\n",
    "        \"delayFee\": null,\n",
    "        \"flightPrice\": 9969,\n",
    "        \"bookingCode\": \"DK1\",\n",
    "        \"ticketNo\": null,\n",
    "        \"fightDepartureCityCode\": \"DOH\",\n",
    "        \"fightFallCityCode\": \"LOS\"\n",
    "    },\n",
    "    {\n",
    "        \"fightNumber\": \"QR1408（卡塔尔航空1408）\",\n",
    "        \"airway\": \"卡塔尔航空\",\n",
    "        \"fightDepartureCity\": \"拉各斯\",\n",
    "        \"fightFallCity\": \"多哈\",\n",
    "        \"fightDepartureAirport\": \"LOS（穆尔塔拉·穆罕默德国际机场）\",\n",
    "        \"fightFallAirport\": \"DOH（哈马德国际机场）\",\n",
    "        \"fightStatus\": null,\n",
    "        \"fightDepartureTime\": \"2023-11-20 12:10:00\",\n",
    "        \"fightFallTime\": \"2023-11-20 22:45:00\",\n",
    "        \"baggageAllowance\": \"2件托运行李\",\n",
    "        \"rebookFee\": null,\n",
    "        \"refundFee\": null,\n",
    "        \"delayFee\": null,\n",
    "        \"flightPrice\": 9969,\n",
    "        \"bookingCode\": \"DK1\",\n",
    "        \"ticketNo\": null,\n",
    "        \"fightDepartureCityCode\": \"LOS\",\n",
    "        \"fightFallCityCode\": \"DOH\"\n",
    "    },\n",
    "    {\n",
    "        \"fightNumber\": \"QR818（卡塔尔航空818）\",\n",
    "        \"airway\": \"卡塔尔航空\",\n",
    "        \"fightDepartureCity\": \"多哈\",\n",
    "        \"fightFallCity\": \"香港\",\n",
    "        \"fightDepartureAirport\": \"DOH（哈马德国际机场）\",\n",
    "        \"fightFallAirport\": \"HKG（香港国际机场）\",\n",
    "        \"fightStatus\": null,\n",
    "        \"fightDepartureTime\": \"2023-12-02 02:35:00\",\n",
    "        \"fightFallTime\": \"2023-12-02 15:10:00\",\n",
    "        \"baggageAllowance\": \"2件托运行李\",\n",
    "        \"rebookFee\": null,\n",
    "        \"refundFee\": null,\n",
    "        \"delayFee\": null,\n",
    "        \"flightPrice\": 9969,\n",
    "        \"bookingCode\": \"DK1\",\n",
    "        \"ticketNo\": null,\n",
    "        \"fightDepartureCityCode\": \"DOH\",\n",
    "        \"fightFallCityCode\": \"HKG\"\n",
    "    }\n",
    "]"
   ]
  },
  {
   "cell_type": "markdown",
   "metadata": {},
   "source": [
    "### Result 4"
   ]
  },
  {
   "cell_type": "markdown",
   "metadata": {},
   "source": [
    "#### Request"
   ]
  },
  {
   "cell_type": "code",
   "execution_count": null,
   "metadata": {
    "vscode": {
     "languageId": "plaintext"
    }
   },
   "outputs": [],
   "source": [
    "QR1408 S   7月06日(星期六)    LOS拉各斯I -DOH多哈哈马德              11:35  22:35\n",
    "QR874  S   7月07日(星期天)    DOH多哈哈马德  -CAN广州白云2           02:30  15:30\n",
    "QR871  N   7月13日(星期六)    PVG上海浦东国际机场2 -DOH多哈哈马德    00:35  04:35\n",
    "QR1405  N  7月13日(星期六)    DOH多哈哈马德  -LOS拉各斯I             09:25  16:05\n",
    "含税：10440 行李2pc，改期110USD+差价，首次免费更改+差价   误机355USD，退票210USD  +部分税不退   ，误机时限航班起飞前6小时"
   ]
  },
  {
   "cell_type": "markdown",
   "metadata": {},
   "source": [
    "#### Response (Model - OpenAI GPT-4o)"
   ]
  },
  {
   "cell_type": "code",
   "execution_count": null,
   "metadata": {
    "vscode": {
     "languageId": "plaintext"
    }
   },
   "outputs": [],
   "source": [
    "[\n",
    "    {\n",
    "        \"fightNumber\": \"QR1408\",\n",
    "        \"airway\": \"卡塔尔航空\",\n",
    "        \"fightDepartureCity\": \"拉各斯\",\n",
    "        \"fightFallCity\": \"多哈\",\n",
    "        \"fightDepartureAirport\": \"LOS拉各斯国际机场\",\n",
    "        \"fightFallAirport\": \"DOH哈马德国际机场\",\n",
    "        \"fightStatus\": null,\n",
    "        \"fightDepartureTime\": \"2019-07-06 11:35:00\",\n",
    "        \"fightFallTime\": \"2019-07-06 22:35:00\",\n",
    "        \"baggageAllowance\": \"行李2件\",\n",
    "        \"rebookFee\": \"改期110美元+差价，首次免费更改+差价\",\n",
    "        \"refundFee\": \"退票210美元+部分税不退\",\n",
    "        \"delayFee\": \"误机355美元，误机时限航班起飞前6小时\",\n",
    "        \"flightPrice\": 10440,\n",
    "        \"bookingCode\": null,\n",
    "        \"ticketNo\": null,\n",
    "        \"fightDepartureCityCode\": null,\n",
    "        \"fightFallCityCode\": null\n",
    "    },\n",
    "    {\n",
    "        \"fightNumber\": \"QR874\",\n",
    "        \"airway\": \"卡塔尔航空\",\n",
    "        \"fightDepartureCity\": \"多哈\",\n",
    "        \"fightFallCity\": \"广州\",\n",
    "        \"fightDepartureAirport\": \"DOH哈马德国际机场\",\n",
    "        \"fightFallAirport\": \"CAN广州白云国际机场\",\n",
    "        \"fightStatus\": null,\n",
    "        \"fightDepartureTime\": \"2019-07-07 02:30:00\",\n",
    "        \"fightFallTime\": \"2019-07-07 15:30:00\",\n",
    "        \"baggageAllowance\": \"行李2件\",\n",
    "        \"rebookFee\": \"改期110美元+差价，首次免费更改+差价\",\n",
    "        \"refundFee\": \"退票210美元+部分税不退\",\n",
    "        \"delayFee\": \"误机355美元，误机时限航班起飞前6小时\",\n",
    "        \"flightPrice\": 10440,\n",
    "        \"bookingCode\": null,\n",
    "        \"ticketNo\": null,\n",
    "        \"fightDepartureCityCode\": null,\n",
    "        \"fightFallCityCode\": null\n",
    "    },\n",
    "    {\n",
    "        \"fightNumber\": \"QR871\",\n",
    "        \"airway\": \"卡塔尔航空\",\n",
    "        \"fightDepartureCity\": \"上海\",\n",
    "        \"fightFallCity\": \"多哈\",\n",
    "        \"fightDepartureAirport\": \"PVG上海浦东国际机场\",\n",
    "        \"fightFallAirport\": \"DOH哈马德国际机场\",\n",
    "        \"fightStatus\": null,\n",
    "        \"fightDepartureTime\": \"2019-07-13 00:35:00\",\n",
    "        \"fightFallTime\": \"2019-07-13 04:35:00\",\n",
    "        \"baggageAllowance\": \"行李2件\",\n",
    "        \"rebookFee\": \"改期110美元+差价，首次免费更改+差价\",\n",
    "        \"refundFee\": \"退票210美元+部分税不退\",\n",
    "        \"delayFee\": \"误机355美元，误机时限航班起飞前6小时\",\n",
    "        \"flightPrice\": 10440,\n",
    "        \"bookingCode\": null,\n",
    "        \"ticketNo\": null,\n",
    "        \"fightDepartureCityCode\": null,\n",
    "        \"fightFallCityCode\": null\n",
    "    },\n",
    "    {\n",
    "        \"fightNumber\": \"QR1405\",\n",
    "        \"airway\": \"卡塔尔航空\",\n",
    "        \"fightDepartureCity\": \"多哈\",\n",
    "        \"fightFallCity\": \"拉各斯\",\n",
    "        \"fightDepartureAirport\": \"DOH哈马德国际机场\",\n",
    "        \"fightFallAirport\": \"LOS拉各斯国际机场\",\n",
    "        \"fightStatus\": null,\n",
    "        \"fightDepartureTime\": \"2019-07-13 09:25:00\",\n",
    "        \"fightFallTime\": \"2019-07-13 16:05:00\",\n",
    "        \"baggageAllowance\": \"行李2件\",\n",
    "        \"rebookFee\": \"改期110美元+差价，首次免费更改+差价\",\n",
    "        \"refundFee\": \"退票210美元+部分税不退\",\n",
    "        \"delayFee\": \"误机355美元，误机时限航班起飞前6小时\",\n",
    "        \"flightPrice\": 10440,\n",
    "        \"bookingCode\": null,\n",
    "        \"ticketNo\": null,\n",
    "        \"fightDepartureCityCode\": null,\n",
    "        \"fightFallCityCode\": null\n",
    "    }\n",
    "]"
   ]
  }
 ],
 "metadata": {
  "language_info": {
   "name": "python"
  }
 },
 "nbformat": 4,
 "nbformat_minor": 2
}
